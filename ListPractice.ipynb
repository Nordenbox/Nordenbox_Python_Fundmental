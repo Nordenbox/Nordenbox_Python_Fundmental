newsquare = []
squaresquare=[]
for n in range(1,101):
    square = n
    newsquare.append(square)
    squaresquare.append(2**square)

print(newsquare)
print(squaresquare)
