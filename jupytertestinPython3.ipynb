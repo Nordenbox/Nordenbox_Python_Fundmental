{
 "cells": [
  {
   "source": [
    "def demo(obj) :\n",
    "    obj += obj\n",
    "    print(\"形参值为：\",obj)\n",
    "    \n",
    "print(\"-------值传递-----\")\n",
    "a = \"#\"\n",
    "print(\"a的值为：\",a)\n",
    "demo(a)\n",
    "print(\"实参值为：\",a)\n",
    "print(\"-----引用传递-----\")\n",
    "a = [1,2,3]\n",
    "print(\"a的值为：\",a)\n",
    "demo(a)\n",
    "print(\"实参值为：\",a)"
   ],
   "cell_type": "code",
   "outputs": [
    {
     "output_type": "stream",
     "name": "stdout",
     "text": "-------值传递-----\na的值为： #\n形参值为： ##\n实参值为： #\n-----引用传递-----\na的值为： [1, 2, 3]\n形参值为： [1, 2, 3, 1, 2, 3]\n实参值为： [1, 2, 3, 1, 2, 3]\n"
    }
   ],
   "metadata": {},
   "execution_count": 1
  }
 ],
 "metadata": {
  "kernelspec": {
   "display_name": "Python 3.7.4 64-bit ('base': conda)",
   "language": "python",
   "name": "python37464bitbaseconda9c2a5986b023456e88120dc45685138a"
  },
  "language_info": {
   "codemirror_mode": {
    "name": "ipython",
    "version": 3
   },
   "file_extension": ".py",
   "mimetype": "text/x-python",
   "name": "python",
   "nbconvert_exporter": "python",
   "pygments_lexer": "ipython3",
   "version": "3.7.4-final"
  }
 },
 "nbformat": 4,
 "nbformat_minor": 2
}